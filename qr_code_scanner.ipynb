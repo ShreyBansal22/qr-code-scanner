{
 "cells": [
  {
   "cell_type": "code",
   "execution_count": 7,
   "metadata": {},
   "outputs": [],
   "source": [
    "import pyzbar.pyzbar as pyzbar\n",
    "import cv2\n",
    "import numpy as np \n"
   ]
  },
  {
   "cell_type": "code",
   "execution_count": 9,
   "metadata": {},
   "outputs": [
    {
     "output_type": "stream",
     "name": "stdout",
     "text": "data b'This is test qr done by shrey'\n"
    }
   ],
   "source": [
    "\"\"\" img=cv2.imread('C:/Users/S_H_R_E_Y/Downloads/test_qr.png')\n",
    "decoded_qr=pyzbar.decode(img)\n",
    "for obj in decoded_qr:\n",
    "    print('data',obj.data)\n",
    "#print(decoded_qr)\n",
    "cv2.imshow('qr',img)\n",
    "cv2.waitKey(0)\n",
    "cv2.destroyAllWindows() \"\"\"\n"
   ]
  },
  {
   "cell_type": "code",
   "execution_count": 15,
   "metadata": {},
   "outputs": [
    {
     "output_type": "stream",
     "name": "stdout",
     "text": "data b'+huM1AUuk+vG1GuWAKLn68VlUpekvkR3pr/TJV6rd1qDoW7Cu4Gs2Sh6xtC9B2Z+jnrHY6DTh64S\\n3LYCTrimllhdUSPmo9tJIDOQnKDle1dwE/Nf7pKI0hNU52/fwtjjixFNRUQCTT244c3I9gNrJQ==\\n'\ndata b'+huM1AUuk+vG1GuWAKLn68VlUpekvkR3pr/TJV6rd1qDoW7Cu4Gs2Sh6xtC9B2Z+jnrHY6DTh64S\\n3LYCTrimllhdUSPmo9tJIDOQnKDle1dwE/Nf7pKI0hNU52/fwtjjixFNRUQCTT244c3I9gNrJQ==\\n'\ndata b'+huM1AUuk+vG1GuWAKLn68VlUpekvkR3pr/TJV6rd1qDoW7Cu4Gs2Sh6xtC9B2Z+jnrHY6DTh64S\\n3LYCTrimllhdUSPmo9tJIDOQnKDle1dwE/Nf7pKI0hNU52/fwtjjixFNRUQCTT244c3I9gNrJQ==\\n'\ndata b'+huM1AUuk+vG1GuWAKLn68VlUpekvkR3pr/TJV6rd1qDoW7Cu4Gs2Sh6xtC9B2Z+jnrHY6DTh64S\\n3LYCTrimllhdUSPmo9tJIDOQnKDle1dwE/Nf7pKI0hNU52/fwtjjixFNRUQCTT244c3I9gNrJQ==\\n'\ndata b'+huM1AUuk+vG1GuWAKLn68VlUpekvkR3pr/TJV6rd1qDoW7Cu4Gs2Sh6xtC9B2Z+jnrHY6DTh64S\\n3LYCTrimllhdUSPmo9tJIDOQnKDle1dwE/Nf7pKI0hNU52/fwtjjixFNRUQCTT244c3I9gNrJQ==\\n'\ndata b'+huM1AUuk+vG1GuWAKLn68VlUpekvkR3pr/TJV6rd1qDoW7Cu4Gs2Sh6xtC9B2Z+jnrHY6DTh64S\\n3LYCTrimllhdUSPmo9tJIDOQnKDle1dwE/Nf7pKI0hNU52/fwtjjixFNRUQCTT244c3I9gNrJQ==\\n'\ndata b'+huM1AUuk+vG1GuWAKLn68VlUpekvkR3pr/TJV6rd1qDoW7Cu4Gs2Sh6xtC9B2Z+jnrHY6DTh64S\\n3LYCTrimllhdUSPmo9tJIDOQnKDle1dwE/Nf7pKI0hNU52/fwtjjixFNRUQCTT244c3I9gNrJQ==\\n'\ndata b'+huM1AUuk+vG1GuWAKLn68VlUpekvkR3pr/TJV6rd1qDoW7Cu4Gs2Sh6xtC9B2Z+jnrHY6DTh64S\\n3LYCTrimllhdUSPmo9tJIDOQnKDle1dwE/Nf7pKI0hNU52/fwtjjixFNRUQCTT244c3I9gNrJQ==\\n'\ndata b'+huM1AUuk+vG1GuWAKLn68VlUpekvkR3pr/TJV6rd1qDoW7Cu4Gs2Sh6xtC9B2Z+jnrHY6DTh64S\\n3LYCTrimllhdUSPmo9tJIDOQnKDle1dwE/Nf7pKI0hNU52/fwtjjixFNRUQCTT244c3I9gNrJQ==\\n'\ndata b'+huM1AUuk+vG1GuWAKLn68VlUpekvkR3pr/TJV6rd1qDoW7Cu4Gs2Sh6xtC9B2Z+jnrHY6DTh64S\\n3LYCTrimllhdUSPmo9tJIDOQnKDle1dwE/Nf7pKI0hNU52/fwtjjixFNRUQCTT244c3I9gNrJQ==\\n'\ndata b'+huM1AUuk+vG1GuWAKLn68VlUpekvkR3pr/TJV6rd1qDoW7Cu4Gs2Sh6xtC9B2Z+jnrHY6DTh64S\\n3LYCTrimllhdUSPmo9tJIDOQnKDle1dwE/Nf7pKI0hNU52/fwtjjixFNRUQCTT244c3I9gNrJQ==\\n'\ndata b'+huM1AUuk+vG1GuWAKLn68VlUpekvkR3pr/TJV6rd1qDoW7Cu4Gs2Sh6xtC9B2Z+jnrHY6DTh64S\\n3LYCTrimllhdUSPmo9tJIDOQnKDle1dwE/Nf7pKI0hNU52/fwtjjixFNRUQCTT244c3I9gNrJQ==\\n'\ndata b'+huM1AUuk+vG1GuWAKLn68VlUpekvkR3pr/TJV6rd1qDoW7Cu4Gs2Sh6xtC9B2Z+jnrHY6DTh64S\\n3LYCTrimllhdUSPmo9tJIDOQnKDle1dwE/Nf7pKI0hNU52/fwtjjixFNRUQCTT244c3I9gNrJQ==\\n'\ndata b'+huM1AUuk+vG1GuWAKLn68VlUpekvkR3pr/TJV6rd1qDoW7Cu4Gs2Sh6xtC9B2Z+jnrHY6DTh64S\\n3LYCTrimllhdUSPmo9tJIDOQnKDle1dwE/Nf7pKI0hNU52/fwtjjixFNRUQCTT244c3I9gNrJQ==\\n'\ndata b'+huM1AUuk+vG1GuWAKLn68VlUpekvkR3pr/TJV6rd1qDoW7Cu4Gs2Sh6xtC9B2Z+jnrHY6DTh64S\\n3LYCTrimllhdUSPmo9tJIDOQnKDle1dwE/Nf7pKI0hNU52/fwtjjixFNRUQCTT244c3I9gNrJQ==\\n'\n"
    }
   ],
   "source": [
    "cap=cv2.VideoCapture(0)\n",
    "while True:\n",
    "    _,frame=cap.read()\n",
    "    decoded_qr=pyzbar.decode(frame)\n",
    "    for obj in decoded_qr:\n",
    "        print(\"data\",obj.data)\n",
    "        cv2.putText(frame,str(obj.data),(50,50),cv2.FONT_HERSHEY_SIMPLEX,2,(255,0,0),3)\n",
    "    cv2.imshow(\"frame\",frame)\n",
    "    if cv2.waitKey(1)&0xff==ord('q'):\n",
    "        break\n",
    "cap.release()\n",
    "cv2.destroyAllWindows()"
   ]
  },
  {
   "cell_type": "code",
   "execution_count": null,
   "metadata": {},
   "outputs": [],
   "source": []
  }
 ],
 "metadata": {
  "language_info": {
   "codemirror_mode": {
    "name": "ipython",
    "version": 3
   },
   "file_extension": ".py",
   "mimetype": "text/x-python",
   "name": "python",
   "nbconvert_exporter": "python",
   "pygments_lexer": "ipython3",
   "version": "3.8.2-final"
  },
  "orig_nbformat": 2,
  "kernelspec": {
   "name": "python38264bite97321b42c334870bdeaccdf56bdcbce",
   "display_name": "Python 3.8.2 64-bit"
  }
 },
 "nbformat": 4,
 "nbformat_minor": 2
}